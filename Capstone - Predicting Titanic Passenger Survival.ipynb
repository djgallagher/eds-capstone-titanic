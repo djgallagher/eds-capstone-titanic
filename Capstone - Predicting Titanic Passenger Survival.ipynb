{
 "cells": [
  {
   "cell_type": "markdown",
   "metadata": {},
   "source": [
    "# Capstone - Predicting Titanic Passenger Survival\n",
    "\n",
    "# Section 1: Introduction\n",
    "This project will attempt to predict the wether or not a passenger survived the sinking of The Titanic. I discovered this machine learning project while browsing the competitions on https://www.kaggle.com/. \n",
    "\n",
    "My goal is to win this competition, using the skills I have learned throughout the Elite Data Science Machine Learning Accelerator course!\n",
    "\n",
    "### Dataset information\n",
    "The dataset consists of 891 obervations, 10 features and 1 target variable. It contains a mixture of data types. Each observation refers to a unique passenger.\n",
    "The data dictionary can be found here https://www.kaggle.com/c/titanic/data\n",
    "\n",
    "### Acknowledgements\n",
    "https://www.kaggle.com/c/titanic/overview\n",
    "\n",
    "### Project findings\n",
    "The winning model is a gradient boosting classifier with an AUROC score 0.874. Some data cleansing and the engineering of several new features is required to produce the analytical base table. This table is then the base from which to train and test with a hyperparameter grid. \n",
    "\n",
    "### Machine learning problem\n",
    "Predicting the survival of a passenger is a classification problem. This project compares different classification algorithims, and identifies the best performing algorithm for this dataset.\n",
    "\n",
    "### About me\n",
    "As a data enthusiast, there was no formal computer science, mathematics, or statistics education for me. However, I value continuous learning and I hope that this machine learning project will showcase much of what I have learned through the Elite Data Science Machine Learning Accelerator course. \n"
   ]
  },
  {
   "cell_type": "markdown",
   "metadata": {},
   "source": [
    "# Section 2: Library Imports"
   ]
  },
  {
   "cell_type": "code",
   "execution_count": 45,
   "metadata": {},
   "outputs": [],
   "source": [
    "# NumPy for computation\n",
    "import numpy as np\n",
    "\n",
    "# Pandas for dataframes\n",
    "import pandas as pd\n",
    "\n",
    "# matplotlib for visualization config\n",
    "from matplotlib import pyplot as plt\n",
    "%matplotlib inline\n",
    "\n",
    "# seaborn for easy visualization\n",
    "import seaborn as sns\n",
    "sns.set_style('darkgrid')\n",
    "\n",
    "# scaler to scale numerical features\n",
    "from sklearn.preprocessing import StandardScaler\n",
    "\n",
    "# ensemble algos\n",
    "from sklearn.ensemble import RandomForestClassifier, GradientBoostingClassifier\n",
    "\n",
    "# metrics\n",
    "from sklearn.metrics import roc_auc_score, roc_curve, confusion_matrix\n",
    "\n",
    "# train test split, grid search for hyperparameter sweep\n",
    "from sklearn.model_selection import train_test_split, GridSearchCV\n",
    "\n",
    "# pipeline\n",
    "from sklearn.pipeline import make_pipeline\n",
    "\n",
    "# Pickle for reading model files\n",
    "import pickle"
   ]
  },
  {
   "cell_type": "markdown",
   "metadata": {},
   "source": [
    "# Section 3: Exploratory Analysis\n",
    "\n",
    "Basic Information\n",
    "* 891 observations, 11 features (including target, excluding index)\n",
    "* Each feature seems intutive as per data dictionary\n",
    "* Missing values in Cabin, Age and Embarked features\n",
    "* features are read in as the correct data type\n",
    "\n",
    "Distributions\n",
    "\n",
    "* Sparse data in Ticket, Cabin features needs to be addressed\n",
    "* summary statistics indicate duplicates in Ticket feature\n",
    "* distributions are somewhat intuitive, however\n",
    "    * Outliers in Fare feature, cannot be proven guilty\n",
    "    * Strange distribution in Age feature amongst low values\n",
    "\n",
    "Feature Relationships (Segmentations & Correlations)\n",
    "* categorical features have been segmented and plotted against the target variable to compare distributions\n",
    "* There are no strong correlations between input features and the target variable\n",
    "    * this can be seen from the correlation matrix\n",
    "* Pclass and Fare are logically correlated\n",
    "    * this can be seen from the correlation matrix\n",
    "* Some new features to be engineered\n",
    "    * has_travel_partner\n",
    "    * has_husband\n",
    "    * has_cabin\n",
    "    \n",
    "Findings\n",
    "* A higher class of passenger (by Pclass, Fare or Cabin) has is more likely to survive than a lower class.\n",
    "* Women and children (especially babies) more likely to survive (\"womwn and children first\")\n",
    "* Many families onboard and more likely too survive (are they heling each other? or perhaps single travellers are sarificing themselves?)\n",
    "* Couples sharing same ticket or cabin more likely to survive"
   ]
  },
  {
   "cell_type": "code",
   "execution_count": 46,
   "metadata": {},
   "outputs": [
    {
     "name": "stdout",
     "output_type": "stream",
     "text": [
      "(891, 12)\n"
     ]
    },
    {
     "data": {
      "text/html": [
       "<div>\n",
       "<style scoped>\n",
       "    .dataframe tbody tr th:only-of-type {\n",
       "        vertical-align: middle;\n",
       "    }\n",
       "\n",
       "    .dataframe tbody tr th {\n",
       "        vertical-align: top;\n",
       "    }\n",
       "\n",
       "    .dataframe thead th {\n",
       "        text-align: right;\n",
       "    }\n",
       "</style>\n",
       "<table border=\"1\" class=\"dataframe\">\n",
       "  <thead>\n",
       "    <tr style=\"text-align: right;\">\n",
       "      <th></th>\n",
       "      <th>PassengerId</th>\n",
       "      <th>Survived</th>\n",
       "      <th>Pclass</th>\n",
       "      <th>Name</th>\n",
       "      <th>Sex</th>\n",
       "      <th>Age</th>\n",
       "      <th>SibSp</th>\n",
       "      <th>Parch</th>\n",
       "      <th>Ticket</th>\n",
       "      <th>Fare</th>\n",
       "      <th>Cabin</th>\n",
       "      <th>Embarked</th>\n",
       "    </tr>\n",
       "  </thead>\n",
       "  <tbody>\n",
       "    <tr>\n",
       "      <th>0</th>\n",
       "      <td>1</td>\n",
       "      <td>0</td>\n",
       "      <td>3</td>\n",
       "      <td>Braund, Mr. Owen Harris</td>\n",
       "      <td>male</td>\n",
       "      <td>22.0</td>\n",
       "      <td>1</td>\n",
       "      <td>0</td>\n",
       "      <td>A/5 21171</td>\n",
       "      <td>7.2500</td>\n",
       "      <td>NaN</td>\n",
       "      <td>S</td>\n",
       "    </tr>\n",
       "    <tr>\n",
       "      <th>1</th>\n",
       "      <td>2</td>\n",
       "      <td>1</td>\n",
       "      <td>1</td>\n",
       "      <td>Cumings, Mrs. John Bradley (Florence Briggs Th...</td>\n",
       "      <td>female</td>\n",
       "      <td>38.0</td>\n",
       "      <td>1</td>\n",
       "      <td>0</td>\n",
       "      <td>PC 17599</td>\n",
       "      <td>71.2833</td>\n",
       "      <td>C85</td>\n",
       "      <td>C</td>\n",
       "    </tr>\n",
       "    <tr>\n",
       "      <th>2</th>\n",
       "      <td>3</td>\n",
       "      <td>1</td>\n",
       "      <td>3</td>\n",
       "      <td>Heikkinen, Miss. Laina</td>\n",
       "      <td>female</td>\n",
       "      <td>26.0</td>\n",
       "      <td>0</td>\n",
       "      <td>0</td>\n",
       "      <td>STON/O2. 3101282</td>\n",
       "      <td>7.9250</td>\n",
       "      <td>NaN</td>\n",
       "      <td>S</td>\n",
       "    </tr>\n",
       "    <tr>\n",
       "      <th>3</th>\n",
       "      <td>4</td>\n",
       "      <td>1</td>\n",
       "      <td>1</td>\n",
       "      <td>Futrelle, Mrs. Jacques Heath (Lily May Peel)</td>\n",
       "      <td>female</td>\n",
       "      <td>35.0</td>\n",
       "      <td>1</td>\n",
       "      <td>0</td>\n",
       "      <td>113803</td>\n",
       "      <td>53.1000</td>\n",
       "      <td>C123</td>\n",
       "      <td>S</td>\n",
       "    </tr>\n",
       "    <tr>\n",
       "      <th>4</th>\n",
       "      <td>5</td>\n",
       "      <td>0</td>\n",
       "      <td>3</td>\n",
       "      <td>Allen, Mr. William Henry</td>\n",
       "      <td>male</td>\n",
       "      <td>35.0</td>\n",
       "      <td>0</td>\n",
       "      <td>0</td>\n",
       "      <td>373450</td>\n",
       "      <td>8.0500</td>\n",
       "      <td>NaN</td>\n",
       "      <td>S</td>\n",
       "    </tr>\n",
       "  </tbody>\n",
       "</table>\n",
       "</div>"
      ],
      "text/plain": [
       "   PassengerId  Survived  Pclass  \\\n",
       "0            1         0       3   \n",
       "1            2         1       1   \n",
       "2            3         1       3   \n",
       "3            4         1       1   \n",
       "4            5         0       3   \n",
       "\n",
       "                                                Name     Sex   Age  SibSp  \\\n",
       "0                            Braund, Mr. Owen Harris    male  22.0      1   \n",
       "1  Cumings, Mrs. John Bradley (Florence Briggs Th...  female  38.0      1   \n",
       "2                             Heikkinen, Miss. Laina  female  26.0      0   \n",
       "3       Futrelle, Mrs. Jacques Heath (Lily May Peel)  female  35.0      1   \n",
       "4                           Allen, Mr. William Henry    male  35.0      0   \n",
       "\n",
       "   Parch            Ticket     Fare Cabin Embarked  \n",
       "0      0         A/5 21171   7.2500   NaN        S  \n",
       "1      0          PC 17599  71.2833   C85        C  \n",
       "2      0  STON/O2. 3101282   7.9250   NaN        S  \n",
       "3      0            113803  53.1000  C123        S  \n",
       "4      0            373450   8.0500   NaN        S  "
      ]
     },
     "execution_count": 46,
     "metadata": {},
     "output_type": "execute_result"
    }
   ],
   "source": [
    "df = pd.read_csv('train.csv')\n",
    "print(df.shape)\n",
    "df.head()"
   ]
  },
  {
   "cell_type": "code",
   "execution_count": 47,
   "metadata": {},
   "outputs": [
    {
     "name": "stdout",
     "output_type": "stream",
     "text": [
      "<class 'pandas.core.frame.DataFrame'>\n",
      "RangeIndex: 891 entries, 0 to 890\n",
      "Data columns (total 12 columns):\n",
      " #   Column       Non-Null Count  Dtype  \n",
      "---  ------       --------------  -----  \n",
      " 0   PassengerId  891 non-null    int64  \n",
      " 1   Survived     891 non-null    int64  \n",
      " 2   Pclass       891 non-null    int64  \n",
      " 3   Name         891 non-null    object \n",
      " 4   Sex          891 non-null    object \n",
      " 5   Age          714 non-null    float64\n",
      " 6   SibSp        891 non-null    int64  \n",
      " 7   Parch        891 non-null    int64  \n",
      " 8   Ticket       891 non-null    object \n",
      " 9   Fare         891 non-null    float64\n",
      " 10  Cabin        204 non-null    object \n",
      " 11  Embarked     889 non-null    object \n",
      "dtypes: float64(2), int64(5), object(5)\n",
      "memory usage: 83.7+ KB\n"
     ]
    }
   ],
   "source": [
    "df.info()"
   ]
  },
  {
   "cell_type": "code",
   "execution_count": 48,
   "metadata": {},
   "outputs": [
    {
     "data": {
      "text/plain": [
       "891"
      ]
     },
     "execution_count": 48,
     "metadata": {},
     "output_type": "execute_result"
    }
   ],
   "source": [
    "df.PassengerId.nunique()"
   ]
  },
  {
   "cell_type": "code",
   "execution_count": 49,
   "metadata": {},
   "outputs": [
    {
     "data": {
      "text/plain": [
       "0"
      ]
     },
     "execution_count": 49,
     "metadata": {},
     "output_type": "execute_result"
    }
   ],
   "source": [
    "df.duplicated().sum()"
   ]
  },
  {
   "cell_type": "code",
   "execution_count": 50,
   "metadata": {},
   "outputs": [
    {
     "name": "stdout",
     "output_type": "stream",
     "text": [
      "(891, 11)\n"
     ]
    },
    {
     "data": {
      "text/html": [
       "<div>\n",
       "<style scoped>\n",
       "    .dataframe tbody tr th:only-of-type {\n",
       "        vertical-align: middle;\n",
       "    }\n",
       "\n",
       "    .dataframe tbody tr th {\n",
       "        vertical-align: top;\n",
       "    }\n",
       "\n",
       "    .dataframe thead th {\n",
       "        text-align: right;\n",
       "    }\n",
       "</style>\n",
       "<table border=\"1\" class=\"dataframe\">\n",
       "  <thead>\n",
       "    <tr style=\"text-align: right;\">\n",
       "      <th></th>\n",
       "      <th>Survived</th>\n",
       "      <th>Pclass</th>\n",
       "      <th>Name</th>\n",
       "      <th>Sex</th>\n",
       "      <th>Age</th>\n",
       "      <th>SibSp</th>\n",
       "      <th>Parch</th>\n",
       "      <th>Ticket</th>\n",
       "      <th>Fare</th>\n",
       "      <th>Cabin</th>\n",
       "      <th>Embarked</th>\n",
       "    </tr>\n",
       "    <tr>\n",
       "      <th>PassengerId</th>\n",
       "      <th></th>\n",
       "      <th></th>\n",
       "      <th></th>\n",
       "      <th></th>\n",
       "      <th></th>\n",
       "      <th></th>\n",
       "      <th></th>\n",
       "      <th></th>\n",
       "      <th></th>\n",
       "      <th></th>\n",
       "      <th></th>\n",
       "    </tr>\n",
       "  </thead>\n",
       "  <tbody>\n",
       "    <tr>\n",
       "      <th>1</th>\n",
       "      <td>0</td>\n",
       "      <td>3</td>\n",
       "      <td>Braund, Mr. Owen Harris</td>\n",
       "      <td>male</td>\n",
       "      <td>22.0</td>\n",
       "      <td>1</td>\n",
       "      <td>0</td>\n",
       "      <td>A/5 21171</td>\n",
       "      <td>7.2500</td>\n",
       "      <td>NaN</td>\n",
       "      <td>S</td>\n",
       "    </tr>\n",
       "    <tr>\n",
       "      <th>2</th>\n",
       "      <td>1</td>\n",
       "      <td>1</td>\n",
       "      <td>Cumings, Mrs. John Bradley (Florence Briggs Th...</td>\n",
       "      <td>female</td>\n",
       "      <td>38.0</td>\n",
       "      <td>1</td>\n",
       "      <td>0</td>\n",
       "      <td>PC 17599</td>\n",
       "      <td>71.2833</td>\n",
       "      <td>C85</td>\n",
       "      <td>C</td>\n",
       "    </tr>\n",
       "    <tr>\n",
       "      <th>3</th>\n",
       "      <td>1</td>\n",
       "      <td>3</td>\n",
       "      <td>Heikkinen, Miss. Laina</td>\n",
       "      <td>female</td>\n",
       "      <td>26.0</td>\n",
       "      <td>0</td>\n",
       "      <td>0</td>\n",
       "      <td>STON/O2. 3101282</td>\n",
       "      <td>7.9250</td>\n",
       "      <td>NaN</td>\n",
       "      <td>S</td>\n",
       "    </tr>\n",
       "    <tr>\n",
       "      <th>4</th>\n",
       "      <td>1</td>\n",
       "      <td>1</td>\n",
       "      <td>Futrelle, Mrs. Jacques Heath (Lily May Peel)</td>\n",
       "      <td>female</td>\n",
       "      <td>35.0</td>\n",
       "      <td>1</td>\n",
       "      <td>0</td>\n",
       "      <td>113803</td>\n",
       "      <td>53.1000</td>\n",
       "      <td>C123</td>\n",
       "      <td>S</td>\n",
       "    </tr>\n",
       "    <tr>\n",
       "      <th>5</th>\n",
       "      <td>0</td>\n",
       "      <td>3</td>\n",
       "      <td>Allen, Mr. William Henry</td>\n",
       "      <td>male</td>\n",
       "      <td>35.0</td>\n",
       "      <td>0</td>\n",
       "      <td>0</td>\n",
       "      <td>373450</td>\n",
       "      <td>8.0500</td>\n",
       "      <td>NaN</td>\n",
       "      <td>S</td>\n",
       "    </tr>\n",
       "  </tbody>\n",
       "</table>\n",
       "</div>"
      ],
      "text/plain": [
       "             Survived  Pclass  \\\n",
       "PassengerId                     \n",
       "1                   0       3   \n",
       "2                   1       1   \n",
       "3                   1       3   \n",
       "4                   1       1   \n",
       "5                   0       3   \n",
       "\n",
       "                                                          Name     Sex   Age  \\\n",
       "PassengerId                                                                    \n",
       "1                                      Braund, Mr. Owen Harris    male  22.0   \n",
       "2            Cumings, Mrs. John Bradley (Florence Briggs Th...  female  38.0   \n",
       "3                                       Heikkinen, Miss. Laina  female  26.0   \n",
       "4                 Futrelle, Mrs. Jacques Heath (Lily May Peel)  female  35.0   \n",
       "5                                     Allen, Mr. William Henry    male  35.0   \n",
       "\n",
       "             SibSp  Parch            Ticket     Fare Cabin Embarked  \n",
       "PassengerId                                                          \n",
       "1                1      0         A/5 21171   7.2500   NaN        S  \n",
       "2                1      0          PC 17599  71.2833   C85        C  \n",
       "3                0      0  STON/O2. 3101282   7.9250   NaN        S  \n",
       "4                1      0            113803  53.1000  C123        S  \n",
       "5                0      0            373450   8.0500   NaN        S  "
      ]
     },
     "execution_count": 50,
     "metadata": {},
     "output_type": "execute_result"
    }
   ],
   "source": [
    "df = pd.read_csv('train.csv', index_col='PassengerId')\n",
    "print(df.shape)\n",
    "df.head()"
   ]
  },
  {
   "cell_type": "code",
   "execution_count": 51,
   "metadata": {},
   "outputs": [],
   "source": [
    "df.Cabin.fillna('Missing', inplace=True)\n",
    "df.Embarked.fillna('Missing', inplace=True)"
   ]
  },
  {
   "cell_type": "code",
   "execution_count": 52,
   "metadata": {},
   "outputs": [
    {
     "data": {
      "text/html": [
       "<div>\n",
       "<style scoped>\n",
       "    .dataframe tbody tr th:only-of-type {\n",
       "        vertical-align: middle;\n",
       "    }\n",
       "\n",
       "    .dataframe tbody tr th {\n",
       "        vertical-align: top;\n",
       "    }\n",
       "\n",
       "    .dataframe thead th {\n",
       "        text-align: right;\n",
       "    }\n",
       "</style>\n",
       "<table border=\"1\" class=\"dataframe\">\n",
       "  <thead>\n",
       "    <tr style=\"text-align: right;\">\n",
       "      <th></th>\n",
       "      <th>Name</th>\n",
       "      <th>Sex</th>\n",
       "      <th>Ticket</th>\n",
       "      <th>Cabin</th>\n",
       "      <th>Embarked</th>\n",
       "    </tr>\n",
       "  </thead>\n",
       "  <tbody>\n",
       "    <tr>\n",
       "      <th>count</th>\n",
       "      <td>891</td>\n",
       "      <td>891</td>\n",
       "      <td>891</td>\n",
       "      <td>891</td>\n",
       "      <td>891</td>\n",
       "    </tr>\n",
       "    <tr>\n",
       "      <th>unique</th>\n",
       "      <td>891</td>\n",
       "      <td>2</td>\n",
       "      <td>681</td>\n",
       "      <td>148</td>\n",
       "      <td>4</td>\n",
       "    </tr>\n",
       "    <tr>\n",
       "      <th>top</th>\n",
       "      <td>McCoy, Mr. Bernard</td>\n",
       "      <td>male</td>\n",
       "      <td>1601</td>\n",
       "      <td>Missing</td>\n",
       "      <td>S</td>\n",
       "    </tr>\n",
       "    <tr>\n",
       "      <th>freq</th>\n",
       "      <td>1</td>\n",
       "      <td>577</td>\n",
       "      <td>7</td>\n",
       "      <td>687</td>\n",
       "      <td>644</td>\n",
       "    </tr>\n",
       "  </tbody>\n",
       "</table>\n",
       "</div>"
      ],
      "text/plain": [
       "                      Name   Sex Ticket    Cabin Embarked\n",
       "count                  891   891    891      891      891\n",
       "unique                 891     2    681      148        4\n",
       "top     McCoy, Mr. Bernard  male   1601  Missing        S\n",
       "freq                     1   577      7      687      644"
      ]
     },
     "execution_count": 52,
     "metadata": {},
     "output_type": "execute_result"
    }
   ],
   "source": [
    "df.describe(include='object')"
   ]
  },
  {
   "cell_type": "code",
   "execution_count": 53,
   "metadata": {},
   "outputs": [],
   "source": [
    "df.Age.fillna(0, inplace=True)\n",
    "df['age_missing'] = (df.Age == 0).astype(int)"
   ]
  },
  {
   "cell_type": "code",
   "execution_count": 54,
   "metadata": {},
   "outputs": [
    {
     "data": {
      "text/html": [
       "<div>\n",
       "<style scoped>\n",
       "    .dataframe tbody tr th:only-of-type {\n",
       "        vertical-align: middle;\n",
       "    }\n",
       "\n",
       "    .dataframe tbody tr th {\n",
       "        vertical-align: top;\n",
       "    }\n",
       "\n",
       "    .dataframe thead th {\n",
       "        text-align: right;\n",
       "    }\n",
       "</style>\n",
       "<table border=\"1\" class=\"dataframe\">\n",
       "  <thead>\n",
       "    <tr style=\"text-align: right;\">\n",
       "      <th></th>\n",
       "      <th>Survived</th>\n",
       "      <th>Pclass</th>\n",
       "      <th>Age</th>\n",
       "      <th>SibSp</th>\n",
       "      <th>Parch</th>\n",
       "      <th>Fare</th>\n",
       "      <th>age_missing</th>\n",
       "    </tr>\n",
       "  </thead>\n",
       "  <tbody>\n",
       "    <tr>\n",
       "      <th>count</th>\n",
       "      <td>891.000000</td>\n",
       "      <td>891.000000</td>\n",
       "      <td>891.000000</td>\n",
       "      <td>891.000000</td>\n",
       "      <td>891.000000</td>\n",
       "      <td>891.000000</td>\n",
       "      <td>891.000000</td>\n",
       "    </tr>\n",
       "    <tr>\n",
       "      <th>mean</th>\n",
       "      <td>0.383838</td>\n",
       "      <td>2.308642</td>\n",
       "      <td>23.799293</td>\n",
       "      <td>0.523008</td>\n",
       "      <td>0.381594</td>\n",
       "      <td>32.204208</td>\n",
       "      <td>0.198653</td>\n",
       "    </tr>\n",
       "    <tr>\n",
       "      <th>std</th>\n",
       "      <td>0.486592</td>\n",
       "      <td>0.836071</td>\n",
       "      <td>17.596074</td>\n",
       "      <td>1.102743</td>\n",
       "      <td>0.806057</td>\n",
       "      <td>49.693429</td>\n",
       "      <td>0.399210</td>\n",
       "    </tr>\n",
       "    <tr>\n",
       "      <th>min</th>\n",
       "      <td>0.000000</td>\n",
       "      <td>1.000000</td>\n",
       "      <td>0.000000</td>\n",
       "      <td>0.000000</td>\n",
       "      <td>0.000000</td>\n",
       "      <td>0.000000</td>\n",
       "      <td>0.000000</td>\n",
       "    </tr>\n",
       "    <tr>\n",
       "      <th>25%</th>\n",
       "      <td>0.000000</td>\n",
       "      <td>2.000000</td>\n",
       "      <td>6.000000</td>\n",
       "      <td>0.000000</td>\n",
       "      <td>0.000000</td>\n",
       "      <td>7.910400</td>\n",
       "      <td>0.000000</td>\n",
       "    </tr>\n",
       "    <tr>\n",
       "      <th>50%</th>\n",
       "      <td>0.000000</td>\n",
       "      <td>3.000000</td>\n",
       "      <td>24.000000</td>\n",
       "      <td>0.000000</td>\n",
       "      <td>0.000000</td>\n",
       "      <td>14.454200</td>\n",
       "      <td>0.000000</td>\n",
       "    </tr>\n",
       "    <tr>\n",
       "      <th>75%</th>\n",
       "      <td>1.000000</td>\n",
       "      <td>3.000000</td>\n",
       "      <td>35.000000</td>\n",
       "      <td>1.000000</td>\n",
       "      <td>0.000000</td>\n",
       "      <td>31.000000</td>\n",
       "      <td>0.000000</td>\n",
       "    </tr>\n",
       "    <tr>\n",
       "      <th>max</th>\n",
       "      <td>1.000000</td>\n",
       "      <td>3.000000</td>\n",
       "      <td>80.000000</td>\n",
       "      <td>8.000000</td>\n",
       "      <td>6.000000</td>\n",
       "      <td>512.329200</td>\n",
       "      <td>1.000000</td>\n",
       "    </tr>\n",
       "  </tbody>\n",
       "</table>\n",
       "</div>"
      ],
      "text/plain": [
       "         Survived      Pclass         Age       SibSp       Parch        Fare  \\\n",
       "count  891.000000  891.000000  891.000000  891.000000  891.000000  891.000000   \n",
       "mean     0.383838    2.308642   23.799293    0.523008    0.381594   32.204208   \n",
       "std      0.486592    0.836071   17.596074    1.102743    0.806057   49.693429   \n",
       "min      0.000000    1.000000    0.000000    0.000000    0.000000    0.000000   \n",
       "25%      0.000000    2.000000    6.000000    0.000000    0.000000    7.910400   \n",
       "50%      0.000000    3.000000   24.000000    0.000000    0.000000   14.454200   \n",
       "75%      1.000000    3.000000   35.000000    1.000000    0.000000   31.000000   \n",
       "max      1.000000    3.000000   80.000000    8.000000    6.000000  512.329200   \n",
       "\n",
       "       age_missing  \n",
       "count   891.000000  \n",
       "mean      0.198653  \n",
       "std       0.399210  \n",
       "min       0.000000  \n",
       "25%       0.000000  \n",
       "50%       0.000000  \n",
       "75%       0.000000  \n",
       "max       1.000000  "
      ]
     },
     "execution_count": 54,
     "metadata": {},
     "output_type": "execute_result"
    }
   ],
   "source": [
    "df.describe()"
   ]
  },
  {
   "cell_type": "markdown",
   "metadata": {},
   "source": [
    "### Distributions of numerical features\n",
    "\n",
    "Distributions show further investigation of Age and Fare (continuous scale) required"
   ]
  },
  {
   "cell_type": "code",
   "execution_count": 55,
   "metadata": {},
   "outputs": [
    {
     "data": {
      "image/png": "[encoded data removed]",
      "text/plain": [
       "<Figure size 720x720 with 9 Axes>"
      ]
     },
     "metadata": {},
     "output_type": "display_data"
    }
   ],
   "source": [
    "df.hist(figsize=(10, 10))\n",
    "plt.show()"
   ]
  },
  {
   "cell_type": "markdown",
   "metadata": {},
   "source": [
    "### Distributions of categorical features\n",
    "\n",
    "Passengers are more likely to survive if the are female and in a higher class.\n",
    "\n",
    "Will create is_female binary feature and keep Pclass feature as continuous numerical value."
   ]
  },
  {
   "cell_type": "code",
   "execution_count": 56,
   "metadata": {},
   "outputs": [
    {
     "data": {
      "image/png": "[encoded data removed]",
      "text/plain": [
       "<Figure size 432x288 with 1 Axes>"
      ]
     },
     "metadata": {},
     "output_type": "display_data"
    },
    {
     "data": {
      "image/png": "[encoded data removed]",
      "text/plain": [
       "<Figure size 432x288 with 1 Axes>"
      ]
     },
     "metadata": {},
     "output_type": "display_data"
    },
    {
     "data": {
      "image/png": "[encoded data removed]",
      "text/plain": [
       "<Figure size 432x288 with 1 Axes>"
      ]
     },
     "metadata": {},
     "output_type": "display_data"
    }
   ],
   "source": [
    "col_list = ['Sex', 'Embarked', 'Pclass']\n",
    "\n",
    "for col in col_list:\n",
    "    sns.countplot(y=col, data=df, hue='Survived')\n",
    "    plt.show()\n"
   ]
  },
  {
   "cell_type": "markdown",
   "metadata": {},
   "source": [
    "### Study Correlations\n",
    "* No strong correlations with target variable\n",
    "    * Pclass is has some correlation -0.34\n",
    "* Some correlation exists between Parch and SibSp\n",
    "    * will consider combining"
   ]
  },
  {
   "cell_type": "code",
   "execution_count": 59,
   "metadata": {},
   "outputs": [
    {
     "data": {
      "image/png": "[encoded data removed]",
      "text/plain": [
       "<Figure size 720x720 with 2 Axes>"
      ]
     },
     "metadata": {},
     "output_type": "display_data"
    }
   ],
   "source": [
    "corr = df.corr()\n",
    "mask = np.zeros_like(corr)\n",
    "mask[np.triu_indices_from(mask)] = 1\n",
    "\n",
    "sns.set_style('whitegrid')\n",
    "plt.figure(figsize=(10,10))\n",
    "\n",
    "sns.heatmap(corr,\n",
    "            mask=mask,\n",
    "            annot=True,\n",
    "            cmap='RdBu_r',\n",
    "            vmax=1,\n",
    "            vmin=-1           \n",
    "           )\n",
    "plt.show()\n",
    "sns.set_style('darkgrid')"
   ]
  },
  {
   "cell_type": "markdown",
   "metadata": {},
   "source": [
    "### Avanced Segmentations & Ad-hoc feature engineering\n",
    "\n",
    "Travel partners\n",
    "* Duplicate Ticket values likely to be travel partners\n",
    "* Passengers are more likely to survive if they have a travel partner\n",
    "\n",
    "Cabin group\n",
    "* Passengers with cabin more likely to survive than those where value is missing\n",
    "\n",
    "Married females\n",
    "* Some passenger names include second name, possibly maiden name\n",
    "* Married females more likely to survive (do they get extra help? are they pregnant for example? \n",
    "\n",
    "Babies and children\n",
    "* these age groups are more likely to survive\n",
    "\n",
    "Crew members\n",
    "* some Fare values are zero\n",
    "* Could these be crew and likely to go down with the ship?\n",
    "\n",
    "Family size\n",
    "* medium size families have a better chance of survival\n"
   ]
  },
  {
   "cell_type": "code",
   "execution_count": 60,
   "metadata": {},
   "outputs": [],
   "source": [
    "df['has_travel_partner'] = (\n",
    "    (df.Ticket.duplicated(keep=False)) |\n",
    "    ((df.Cabin != 'Missing') & (df.Cabin.duplicated(keep=False))) |\n",
    "    ((df.Parch + df.SibSp > 0))\n",
    ").astype(int)\n"
   ]
  },
  {
   "cell_type": "code",
   "execution_count": 61,
   "metadata": {},
   "outputs": [
    {
     "data": {
      "image/png": "[encoded data removed]",
      "text/plain": [
       "<Figure size 432x288 with 1 Axes>"
      ]
     },
     "metadata": {},
     "output_type": "display_data"
    }
   ],
   "source": [
    "sns.violinplot(x='Survived',\n",
    "               y='has_travel_partner', \n",
    "               data=df,\n",
    "               orient='h'\n",
    "              )\n",
    "plt.show()"
   ]
  },
  {
   "cell_type": "code",
   "execution_count": 62,
   "metadata": {},
   "outputs": [],
   "source": [
    "df['cabin_group'] = df.Cabin.str.slice(stop=1)"
   ]
  },
  {
   "cell_type": "code",
   "execution_count": 63,
   "metadata": {},
   "outputs": [
    {
     "data": {
      "image/png": "[encoded data removed]",
      "text/plain": [
       "<Figure size 432x288 with 1 Axes>"
      ]
     },
     "metadata": {},
     "output_type": "display_data"
    }
   ],
   "source": [
    "sns.countplot(y='cabin_group', data=df, hue='Survived')\n",
    "plt.show()"
   ]
  },
  {
   "cell_type": "code",
   "execution_count": 64,
   "metadata": {},
   "outputs": [
    {
     "data": {
      "text/plain": [
       "count        143\n",
       "unique       143\n",
       "top       Marion\n",
       "freq           1\n",
       "Name: second_name, dtype: object"
      ]
     },
     "execution_count": 64,
     "metadata": {},
     "output_type": "execute_result"
    }
   ],
   "source": [
    "df['second_name'] = df.Name.str.split('(').str[1].str.split(')').str[0]\n",
    "df.second_name.describe()"
   ]
  },
  {
   "cell_type": "code",
   "execution_count": 65,
   "metadata": {},
   "outputs": [],
   "source": [
    "df['has_husband'] = (df.second_name.notnull()).astype(int)"
   ]
  },
  {
   "cell_type": "code",
   "execution_count": 66,
   "metadata": {},
   "outputs": [
    {
     "data": {
      "image/png": "[encoded data removed]",
      "text/plain": [
       "<Figure size 432x288 with 1 Axes>"
      ]
     },
     "metadata": {},
     "output_type": "display_data"
    }
   ],
   "source": [
    "sns.countplot(y='has_husband', data=df, hue='Survived')\n",
    "plt.show()"
   ]
  },
  {
   "cell_type": "code",
   "execution_count": 67,
   "metadata": {},
   "outputs": [
    {
     "data": {
      "text/plain": [
       "0.5362318840579711"
      ]
     },
     "execution_count": 67,
     "metadata": {},
     "output_type": "execute_result"
    }
   ],
   "source": [
    "df['is_child'] = ((df.Age > 1) & (df.Age < 16)).astype(int)\n",
    "df[(df.is_child == 1)].Survived.mean()"
   ]
  },
  {
   "cell_type": "code",
   "execution_count": 68,
   "metadata": {},
   "outputs": [
    {
     "data": {
      "text/plain": [
       "1.0"
      ]
     },
     "execution_count": 68,
     "metadata": {},
     "output_type": "execute_result"
    }
   ],
   "source": [
    "df['is_baby'] = ((df.Age > 0) & (df.Age < 1)).astype(int)\n",
    "df[(df.is_baby == 1)].Survived.mean()"
   ]
  },
  {
   "cell_type": "code",
   "execution_count": 69,
   "metadata": {},
   "outputs": [
    {
     "data": {
      "text/plain": [
       "0.06666666666666667"
      ]
     },
     "execution_count": 69,
     "metadata": {},
     "output_type": "execute_result"
    }
   ],
   "source": [
    "df['is_crew'] = (df.Fare == 0).astype(int)\n",
    "df[(df.is_crew == 1)].Survived.mean()"
   ]
  },
  {
   "cell_type": "code",
   "execution_count": 70,
   "metadata": {},
   "outputs": [
    {
     "data": {
      "image/png": "[encoded data removed]",
      "text/plain": [
       "<Figure size 432x288 with 1 Axes>"
      ]
     },
     "metadata": {},
     "output_type": "display_data"
    }
   ],
   "source": [
    "df['family_size'] = df.Parch + df.SibSp\n",
    "\n",
    "sns.countplot(y='family_size',\n",
    "              data=df,\n",
    "              hue='Survived'\n",
    "             )\n",
    "\n",
    "plt.show()"
   ]
  },
  {
   "cell_type": "code",
   "execution_count": 71,
   "metadata": {},
   "outputs": [],
   "source": [
    "# https://www.dataquest.io/blog/tutorial-add-column-pandas-dataframe-based-on-if-else-condition/\n",
    "# create list of conditions\n",
    "family_size_conditions = [\n",
    "(df.Parch + df.SibSp == 0), \n",
    "(df.Parch + df.SibSp > 0) & (df.Parch + df.SibSp <=3),\n",
    "(df.Parch + df.SibSp > 3)\n",
    "]\n",
    "\n",
    "# create list of values\n",
    "family_size_groups = [\n",
    "    1,\n",
    "    2,\n",
    "    3\n",
    "]\n",
    "\n",
    "df['family_size_group'] = np.select(family_size_conditions, family_size_groups).astype('object')\n"
   ]
  },
  {
   "cell_type": "code",
   "execution_count": 72,
   "metadata": {},
   "outputs": [
    {
     "data": {
      "image/png": "[encoded data removed]",
      "text/plain": [
       "<Figure size 432x288 with 1 Axes>"
      ]
     },
     "metadata": {},
     "output_type": "display_data"
    }
   ],
   "source": [
    "sns.countplot(y='family_size_group',\n",
    "              data=df,\n",
    "              hue='Survived'\n",
    "             )\n",
    "\n",
    "plt.show()"
   ]
  },
  {
   "cell_type": "markdown",
   "metadata": {},
   "source": [
    "### More Segmentations\n",
    "\n",
    "No clear clusters can be found by combining Age and Fare.\n",
    "\n",
    "Will create groups based on quartiles, and including the following:\n",
    "* Age == 0 (missing values)\n",
    "* Age > 0 <= 1 (babies)\n",
    "* Fare == 0 (potential crew members)\n",
    "\n",
    "These new groups can replace some binary features created earlier."
   ]
  },
  {
   "cell_type": "code",
   "execution_count": 73,
   "metadata": {},
   "outputs": [
    {
     "data": {
      "image/png": "[encoded data removed]",
      "text/plain": [
       "<Figure size 407x360 with 1 Axes>"
      ]
     },
     "metadata": {},
     "output_type": "display_data"
    }
   ],
   "source": [
    "sns.lmplot(x='Age',\n",
    "           y='Fare',\n",
    "           hue='Survived',\n",
    "           data=df,\n",
    "           fit_reg=False,\n",
    "           scatter_kws={'alpha':0.2},\n",
    "           height=5\n",
    ")\n",
    "\n",
    "plt.ylim(0, 100)\n",
    "plt.show()"
   ]
  },
  {
   "cell_type": "code",
   "execution_count": 74,
   "metadata": {},
   "outputs": [
    {
     "data": {
      "text/html": [
       "<div>\n",
       "<style scoped>\n",
       "    .dataframe tbody tr th:only-of-type {\n",
       "        vertical-align: middle;\n",
       "    }\n",
       "\n",
       "    .dataframe tbody tr th {\n",
       "        vertical-align: top;\n",
       "    }\n",
       "\n",
       "    .dataframe thead th {\n",
       "        text-align: right;\n",
       "    }\n",
       "</style>\n",
       "<table border=\"1\" class=\"dataframe\">\n",
       "  <thead>\n",
       "    <tr style=\"text-align: right;\">\n",
       "      <th></th>\n",
       "      <th>Age</th>\n",
       "      <th>Fare</th>\n",
       "    </tr>\n",
       "  </thead>\n",
       "  <tbody>\n",
       "    <tr>\n",
       "      <th>count</th>\n",
       "      <td>891.000000</td>\n",
       "      <td>891.000000</td>\n",
       "    </tr>\n",
       "    <tr>\n",
       "      <th>mean</th>\n",
       "      <td>23.799293</td>\n",
       "      <td>32.204208</td>\n",
       "    </tr>\n",
       "    <tr>\n",
       "      <th>std</th>\n",
       "      <td>17.596074</td>\n",
       "      <td>49.693429</td>\n",
       "    </tr>\n",
       "    <tr>\n",
       "      <th>min</th>\n",
       "      <td>0.000000</td>\n",
       "      <td>0.000000</td>\n",
       "    </tr>\n",
       "    <tr>\n",
       "      <th>25%</th>\n",
       "      <td>6.000000</td>\n",
       "      <td>7.910400</td>\n",
       "    </tr>\n",
       "    <tr>\n",
       "      <th>50%</th>\n",
       "      <td>24.000000</td>\n",
       "      <td>14.454200</td>\n",
       "    </tr>\n",
       "    <tr>\n",
       "      <th>75%</th>\n",
       "      <td>35.000000</td>\n",
       "      <td>31.000000</td>\n",
       "    </tr>\n",
       "    <tr>\n",
       "      <th>max</th>\n",
       "      <td>80.000000</td>\n",
       "      <td>512.329200</td>\n",
       "    </tr>\n",
       "  </tbody>\n",
       "</table>\n",
       "</div>"
      ],
      "text/plain": [
       "              Age        Fare\n",
       "count  891.000000  891.000000\n",
       "mean    23.799293   32.204208\n",
       "std     17.596074   49.693429\n",
       "min      0.000000    0.000000\n",
       "25%      6.000000    7.910400\n",
       "50%     24.000000   14.454200\n",
       "75%     35.000000   31.000000\n",
       "max     80.000000  512.329200"
      ]
     },
     "execution_count": 74,
     "metadata": {},
     "output_type": "execute_result"
    }
   ],
   "source": [
    "df[['Age', 'Fare']].describe()"
   ]
  },
  {
   "cell_type": "code",
   "execution_count": 75,
   "metadata": {},
   "outputs": [],
   "source": [
    "# https://www.dataquest.io/blog/tutorial-add-column-pandas-dataframe-based-on-if-else-condition/\n",
    "# create list of conditions\n",
    "age_conditions = [\n",
    "(df.Age == 0), \n",
    "(df.Age > 0) & (df.Age <= 1),\n",
    "(df.Age > 1) & (df.Age <= 24),\n",
    "(df.Age > 24) & (df.Age <= 35),\n",
    "(df.Age > 35)\n",
    "]\n",
    "\n",
    "# create list of values\n",
    "age_groups = [\n",
    "    1,\n",
    "    2,\n",
    "    3,\n",
    "    4,\n",
    "    5\n",
    "]\n",
    "\n",
    "df['age_group'] = np.select(age_conditions, age_groups).astype('object')"
   ]
  },
  {
   "cell_type": "code",
   "execution_count": 76,
   "metadata": {},
   "outputs": [],
   "source": [
    "# create list of conditions\n",
    "fare_conditions = [\n",
    "    (df.Fare == 0),\n",
    "    (df.Fare > 0) & (df.Fare <= 8),\n",
    "    (df.Fare > 8) & (df.Fare <= 15),\n",
    "    (df.Fare > 15) & (df.Fare <= 31),\n",
    "    (df.Fare > 31)\n",
    "]\n",
    "\n",
    "# create list of values\n",
    "fare_groups = [\n",
    "    1,\n",
    "    2,\n",
    "    3,\n",
    "    4,\n",
    "    5\n",
    "]\n",
    "\n",
    "df['fare_group'] = np.select(fare_conditions, fare_groups).astype('object')"
   ]
  },
  {
   "cell_type": "code",
   "execution_count": 77,
   "metadata": {},
   "outputs": [
    {
     "data": {
      "image/png": "[encoded data removed]",
      "text/plain": [
       "<Figure size 432x288 with 1 Axes>"
      ]
     },
     "metadata": {},
     "output_type": "display_data"
    },
    {
     "data": {
      "image/png": "[encoded data removed]",
      "text/plain": [
       "<Figure size 432x288 with 1 Axes>"
      ]
     },
     "metadata": {},
     "output_type": "display_data"
    }
   ],
   "source": [
    "for col in ['age_group', 'fare_group']:\n",
    "    sns.countplot(y=col, \n",
    "                  data=df\n",
    "                 )\n",
    "    plt.show()"
   ]
  },
  {
   "cell_type": "markdown",
   "metadata": {},
   "source": [
    "## Section 4: Data Cleaning\n",
    "\n",
    "This section will clean the data by\n",
    "\n",
    "* dropping duplicates\n",
    "* filling missing values\n",
    "\n",
    "Although no duplicates were found in train.csv, they may exist in future data sets"
   ]
  },
  {
   "cell_type": "code",
   "execution_count": 78,
   "metadata": {},
   "outputs": [],
   "source": [
    "def clean_data(df):\n",
    "    \n",
    "    # drop duplicates\n",
    "    df.drop_duplicates(inplace=True)\n",
    "    \n",
    "    # fill missing Age values\n",
    "    df.Age.fillna(0, inplace=True)\n",
    "    df['age_missing'] = (df.Age == 0).astype(int)\n",
    "    \n",
    "    return df  "
   ]
  },
  {
   "cell_type": "code",
   "execution_count": 79,
   "metadata": {},
   "outputs": [
    {
     "name": "stdout",
     "output_type": "stream",
     "text": [
      "(891, 11)\n"
     ]
    }
   ],
   "source": [
    "df = pd.read_csv('train.csv', index_col='PassengerId')\n",
    "print(df.shape)"
   ]
  },
  {
   "cell_type": "code",
   "execution_count": 80,
   "metadata": {},
   "outputs": [
    {
     "name": "stdout",
     "output_type": "stream",
     "text": [
      "(891, 12)\n"
     ]
    }
   ],
   "source": [
    "df = clean_data(df)\n",
    "print(df.shape)"
   ]
  },
  {
   "cell_type": "markdown",
   "metadata": {},
   "source": [
    "## Section 5: Feature Engineering\n",
    "\n",
    "This section will prepare the analytical base table by engineering the features found relevant in from the Exploratory Analyis section.\n",
    "\n",
    "Some of the original features will be dropped in favour of new ones. This will reduce dimensionality and complexity of the model."
   ]
  },
  {
   "cell_type": "code",
   "execution_count": 83,
   "metadata": {},
   "outputs": [],
   "source": [
    "def create_group_features(df):\n",
    "    \n",
    "    # age_group\n",
    "    # create list of conditions\n",
    "    age_conditions = [\n",
    "    (df.Age == 0), \n",
    "    (df.Age >0) & (df.Age <= 1),\n",
    "    (df.Age > 1) & (df.Age <= 24),\n",
    "    (df.Age > 24) & (df.Age <= 35),\n",
    "    (df.Age > 35)\n",
    "    ]\n",
    "\n",
    "    # create list of values\n",
    "    age_groups = [\n",
    "        1,\n",
    "        2,\n",
    "        3,\n",
    "        4,\n",
    "        5\n",
    "    ]\n",
    "    \n",
    "    # create feature as object\n",
    "    df['age_group'] = np.select(age_conditions, age_groups).astype('object')\n",
    "    \n",
    "    # fare_group\n",
    "    # create list of conditions\n",
    "    fare_conditions = [\n",
    "        (df.Fare == 0),\n",
    "        (df.Fare > 0) & (df.Fare <= 8),\n",
    "        (df.Fare > 8) & (df.Fare <= 15),\n",
    "        (df.Fare > 15) & (df.Fare <= 31),\n",
    "        (df.Fare > 31)\n",
    "    ]\n",
    "\n",
    "    # create list of values\n",
    "    fare_groups = [\n",
    "        1,\n",
    "        2,\n",
    "        3,\n",
    "        4,\n",
    "        5\n",
    "    ]\n",
    "\n",
    "    df['fare_group'] = np.select(fare_conditions, fare_groups).astype('object')\n",
    "    \n",
    "    # family_size_group\n",
    "    # create list of conditions\n",
    "    family_size_conditions = [\n",
    "    (df.Parch + df.SibSp == 0), \n",
    "    (df.Parch + df.SibSp > 0) & (df.Parch + df.SibSp <=3),\n",
    "    (df.Parch + df.SibSp > 3)\n",
    "    ]\n",
    "\n",
    "    # create list of values\n",
    "    family_size_groups = [\n",
    "        1,\n",
    "        2,\n",
    "        3\n",
    "    ]\n",
    "\n",
    "    df['family_size_group'] = np.select(family_size_conditions, family_size_groups).astype('object')\n",
    "    \n",
    "    return df\n",
    "    \n",
    "    "
   ]
  },
  {
   "cell_type": "code",
   "execution_count": 84,
   "metadata": {},
   "outputs": [],
   "source": [
    "def engineer_features(df):\n",
    "    \n",
    "    # binary indicators\n",
    "    df['has_travel_partner'] = (\n",
    "        df.Ticket.duplicated(keep=False) | \n",
    "        ((df.Cabin != 'Missing') & df.Cabin.duplicated(keep=False)) |\n",
    "        ((df.Parch + df.SibSp > 0))\n",
    "        ).astype(int)\n",
    "    \n",
    "    df['has_cabin'] = (df.Cabin.notnull()).astype(int)\n",
    "    \n",
    "    df['second_name'] = df.Name.str.split('(').str[1].str.split(')').str[0]\n",
    "    df['has_husband'] = (df.second_name.notnull()).astype(int)\n",
    "    \n",
    "    df['is_female'] = (df.Sex == 'female').astype(int)\n",
    "    \n",
    "    # interactive features\n",
    "    df = create_group_features(df)\n",
    "    \n",
    "    # get dummies\n",
    "    df = pd.get_dummies(df, columns=['Embarked', 'age_group', 'fare_group'])\n",
    "    \n",
    "    # drop unwanted columns\n",
    "    col_list = ['Name', 'Sex', 'Age', 'SibSp', 'Parch', 'Ticket', 'Fare', 'Cabin', 'second_name']\n",
    "    df.drop(col_list, axis=1, inplace=True)\n",
    "    \n",
    "    return df\n"
   ]
  },
  {
   "cell_type": "code",
   "execution_count": 85,
   "metadata": {},
   "outputs": [
    {
     "data": {
      "text/html": [
       "<div>\n",
       "<style scoped>\n",
       "    .dataframe tbody tr th:only-of-type {\n",
       "        vertical-align: middle;\n",
       "    }\n",
       "\n",
       "    .dataframe tbody tr th {\n",
       "        vertical-align: top;\n",
       "    }\n",
       "\n",
       "    .dataframe thead th {\n",
       "        text-align: right;\n",
       "    }\n",
       "</style>\n",
       "<table border=\"1\" class=\"dataframe\">\n",
       "  <thead>\n",
       "    <tr style=\"text-align: right;\">\n",
       "      <th></th>\n",
       "      <th>Survived</th>\n",
       "      <th>Pclass</th>\n",
       "      <th>age_missing</th>\n",
       "      <th>has_travel_partner</th>\n",
       "      <th>has_cabin</th>\n",
       "      <th>has_husband</th>\n",
       "      <th>is_female</th>\n",
       "      <th>family_size_group</th>\n",
       "      <th>Embarked_C</th>\n",
       "      <th>Embarked_Q</th>\n",
       "      <th>...</th>\n",
       "      <th>age_group_1</th>\n",
       "      <th>age_group_2</th>\n",
       "      <th>age_group_3</th>\n",
       "      <th>age_group_4</th>\n",
       "      <th>age_group_5</th>\n",
       "      <th>fare_group_1</th>\n",
       "      <th>fare_group_2</th>\n",
       "      <th>fare_group_3</th>\n",
       "      <th>fare_group_4</th>\n",
       "      <th>fare_group_5</th>\n",
       "    </tr>\n",
       "    <tr>\n",
       "      <th>PassengerId</th>\n",
       "      <th></th>\n",
       "      <th></th>\n",
       "      <th></th>\n",
       "      <th></th>\n",
       "      <th></th>\n",
       "      <th></th>\n",
       "      <th></th>\n",
       "      <th></th>\n",
       "      <th></th>\n",
       "      <th></th>\n",
       "      <th></th>\n",
       "      <th></th>\n",
       "      <th></th>\n",
       "      <th></th>\n",
       "      <th></th>\n",
       "      <th></th>\n",
       "      <th></th>\n",
       "      <th></th>\n",
       "      <th></th>\n",
       "      <th></th>\n",
       "      <th></th>\n",
       "    </tr>\n",
       "  </thead>\n",
       "  <tbody>\n",
       "    <tr>\n",
       "      <th>1</th>\n",
       "      <td>0</td>\n",
       "      <td>3</td>\n",
       "      <td>0</td>\n",
       "      <td>1</td>\n",
       "      <td>0</td>\n",
       "      <td>0</td>\n",
       "      <td>0</td>\n",
       "      <td>2</td>\n",
       "      <td>0</td>\n",
       "      <td>0</td>\n",
       "      <td>...</td>\n",
       "      <td>0</td>\n",
       "      <td>0</td>\n",
       "      <td>1</td>\n",
       "      <td>0</td>\n",
       "      <td>0</td>\n",
       "      <td>0</td>\n",
       "      <td>1</td>\n",
       "      <td>0</td>\n",
       "      <td>0</td>\n",
       "      <td>0</td>\n",
       "    </tr>\n",
       "    <tr>\n",
       "      <th>2</th>\n",
       "      <td>1</td>\n",
       "      <td>1</td>\n",
       "      <td>0</td>\n",
       "      <td>1</td>\n",
       "      <td>1</td>\n",
       "      <td>1</td>\n",
       "      <td>1</td>\n",
       "      <td>2</td>\n",
       "      <td>1</td>\n",
       "      <td>0</td>\n",
       "      <td>...</td>\n",
       "      <td>0</td>\n",
       "      <td>0</td>\n",
       "      <td>0</td>\n",
       "      <td>0</td>\n",
       "      <td>1</td>\n",
       "      <td>0</td>\n",
       "      <td>0</td>\n",
       "      <td>0</td>\n",
       "      <td>0</td>\n",
       "      <td>1</td>\n",
       "    </tr>\n",
       "    <tr>\n",
       "      <th>3</th>\n",
       "      <td>1</td>\n",
       "      <td>3</td>\n",
       "      <td>0</td>\n",
       "      <td>1</td>\n",
       "      <td>0</td>\n",
       "      <td>0</td>\n",
       "      <td>1</td>\n",
       "      <td>1</td>\n",
       "      <td>0</td>\n",
       "      <td>0</td>\n",
       "      <td>...</td>\n",
       "      <td>0</td>\n",
       "      <td>0</td>\n",
       "      <td>0</td>\n",
       "      <td>1</td>\n",
       "      <td>0</td>\n",
       "      <td>0</td>\n",
       "      <td>1</td>\n",
       "      <td>0</td>\n",
       "      <td>0</td>\n",
       "      <td>0</td>\n",
       "    </tr>\n",
       "    <tr>\n",
       "      <th>4</th>\n",
       "      <td>1</td>\n",
       "      <td>1</td>\n",
       "      <td>0</td>\n",
       "      <td>1</td>\n",
       "      <td>1</td>\n",
       "      <td>1</td>\n",
       "      <td>1</td>\n",
       "      <td>2</td>\n",
       "      <td>0</td>\n",
       "      <td>0</td>\n",
       "      <td>...</td>\n",
       "      <td>0</td>\n",
       "      <td>0</td>\n",
       "      <td>0</td>\n",
       "      <td>1</td>\n",
       "      <td>0</td>\n",
       "      <td>0</td>\n",
       "      <td>0</td>\n",
       "      <td>0</td>\n",
       "      <td>0</td>\n",
       "      <td>1</td>\n",
       "    </tr>\n",
       "    <tr>\n",
       "      <th>5</th>\n",
       "      <td>0</td>\n",
       "      <td>3</td>\n",
       "      <td>0</td>\n",
       "      <td>1</td>\n",
       "      <td>0</td>\n",
       "      <td>0</td>\n",
       "      <td>0</td>\n",
       "      <td>1</td>\n",
       "      <td>0</td>\n",
       "      <td>0</td>\n",
       "      <td>...</td>\n",
       "      <td>0</td>\n",
       "      <td>0</td>\n",
       "      <td>0</td>\n",
       "      <td>1</td>\n",
       "      <td>0</td>\n",
       "      <td>0</td>\n",
       "      <td>0</td>\n",
       "      <td>1</td>\n",
       "      <td>0</td>\n",
       "      <td>0</td>\n",
       "    </tr>\n",
       "  </tbody>\n",
       "</table>\n",
       "<p>5 rows × 21 columns</p>\n",
       "</div>"
      ],
      "text/plain": [
       "             Survived  Pclass  age_missing  has_travel_partner  has_cabin  \\\n",
       "PassengerId                                                                 \n",
       "1                   0       3            0                   1          0   \n",
       "2                   1       1            0                   1          1   \n",
       "3                   1       3            0                   1          0   \n",
       "4                   1       1            0                   1          1   \n",
       "5                   0       3            0                   1          0   \n",
       "\n",
       "             has_husband  is_female family_size_group  Embarked_C  Embarked_Q  \\\n",
       "PassengerId                                                                     \n",
       "1                      0          0                 2           0           0   \n",
       "2                      1          1                 2           1           0   \n",
       "3                      0          1                 1           0           0   \n",
       "4                      1          1                 2           0           0   \n",
       "5                      0          0                 1           0           0   \n",
       "\n",
       "             ...  age_group_1  age_group_2  age_group_3  age_group_4  \\\n",
       "PassengerId  ...                                                       \n",
       "1            ...            0            0            1            0   \n",
       "2            ...            0            0            0            0   \n",
       "3            ...            0            0            0            1   \n",
       "4            ...            0            0            0            1   \n",
       "5            ...            0            0            0            1   \n",
       "\n",
       "             age_group_5  fare_group_1  fare_group_2  fare_group_3  \\\n",
       "PassengerId                                                          \n",
       "1                      0             0             1             0   \n",
       "2                      1             0             0             0   \n",
       "3                      0             0             1             0   \n",
       "4                      0             0             0             0   \n",
       "5                      0             0             0             1   \n",
       "\n",
       "             fare_group_4  fare_group_5  \n",
       "PassengerId                              \n",
       "1                       0             0  \n",
       "2                       0             1  \n",
       "3                       0             0  \n",
       "4                       0             1  \n",
       "5                       0             0  \n",
       "\n",
       "[5 rows x 21 columns]"
      ]
     },
     "execution_count": 85,
     "metadata": {},
     "output_type": "execute_result"
    }
   ],
   "source": [
    "df = engineer_features(df)\n",
    "df.head()\n"
   ]
  },
  {
   "cell_type": "code",
   "execution_count": 86,
   "metadata": {},
   "outputs": [],
   "source": [
    "df.to_csv('analytical_base_table.csv')"
   ]
  },
  {
   "cell_type": "markdown",
   "metadata": {},
   "source": [
    "## Section 6: Algorthim Selection\n",
    "\n",
    "Since simple linear regression suffers from two major flaws:\n",
    "1. It's prone to overfit with many input features.\n",
    "2. It cannot easily express non-linear relationships.\n",
    "\n",
    "Instead, this section will investigate the application of descision tree ensembles methods. These are\n",
    "* random forests\n",
    "* boosted trees\n"
   ]
  },
  {
   "cell_type": "code",
   "execution_count": 87,
   "metadata": {},
   "outputs": [
    {
     "name": "stdout",
     "output_type": "stream",
     "text": [
      "(891, 21)\n"
     ]
    },
    {
     "data": {
      "text/html": [
       "<div>\n",
       "<style scoped>\n",
       "    .dataframe tbody tr th:only-of-type {\n",
       "        vertical-align: middle;\n",
       "    }\n",
       "\n",
       "    .dataframe tbody tr th {\n",
       "        vertical-align: top;\n",
       "    }\n",
       "\n",
       "    .dataframe thead th {\n",
       "        text-align: right;\n",
       "    }\n",
       "</style>\n",
       "<table border=\"1\" class=\"dataframe\">\n",
       "  <thead>\n",
       "    <tr style=\"text-align: right;\">\n",
       "      <th></th>\n",
       "      <th>Survived</th>\n",
       "      <th>Pclass</th>\n",
       "      <th>age_missing</th>\n",
       "      <th>has_travel_partner</th>\n",
       "      <th>has_cabin</th>\n",
       "      <th>has_husband</th>\n",
       "      <th>is_female</th>\n",
       "      <th>family_size_group</th>\n",
       "      <th>Embarked_C</th>\n",
       "      <th>Embarked_Q</th>\n",
       "      <th>...</th>\n",
       "      <th>age_group_1</th>\n",
       "      <th>age_group_2</th>\n",
       "      <th>age_group_3</th>\n",
       "      <th>age_group_4</th>\n",
       "      <th>age_group_5</th>\n",
       "      <th>fare_group_1</th>\n",
       "      <th>fare_group_2</th>\n",
       "      <th>fare_group_3</th>\n",
       "      <th>fare_group_4</th>\n",
       "      <th>fare_group_5</th>\n",
       "    </tr>\n",
       "    <tr>\n",
       "      <th>PassengerId</th>\n",
       "      <th></th>\n",
       "      <th></th>\n",
       "      <th></th>\n",
       "      <th></th>\n",
       "      <th></th>\n",
       "      <th></th>\n",
       "      <th></th>\n",
       "      <th></th>\n",
       "      <th></th>\n",
       "      <th></th>\n",
       "      <th></th>\n",
       "      <th></th>\n",
       "      <th></th>\n",
       "      <th></th>\n",
       "      <th></th>\n",
       "      <th></th>\n",
       "      <th></th>\n",
       "      <th></th>\n",
       "      <th></th>\n",
       "      <th></th>\n",
       "      <th></th>\n",
       "    </tr>\n",
       "  </thead>\n",
       "  <tbody>\n",
       "    <tr>\n",
       "      <th>1</th>\n",
       "      <td>0</td>\n",
       "      <td>3</td>\n",
       "      <td>0</td>\n",
       "      <td>1</td>\n",
       "      <td>0</td>\n",
       "      <td>0</td>\n",
       "      <td>0</td>\n",
       "      <td>2</td>\n",
       "      <td>0</td>\n",
       "      <td>0</td>\n",
       "      <td>...</td>\n",
       "      <td>0</td>\n",
       "      <td>0</td>\n",
       "      <td>1</td>\n",
       "      <td>0</td>\n",
       "      <td>0</td>\n",
       "      <td>0</td>\n",
       "      <td>1</td>\n",
       "      <td>0</td>\n",
       "      <td>0</td>\n",
       "      <td>0</td>\n",
       "    </tr>\n",
       "    <tr>\n",
       "      <th>2</th>\n",
       "      <td>1</td>\n",
       "      <td>1</td>\n",
       "      <td>0</td>\n",
       "      <td>1</td>\n",
       "      <td>1</td>\n",
       "      <td>1</td>\n",
       "      <td>1</td>\n",
       "      <td>2</td>\n",
       "      <td>1</td>\n",
       "      <td>0</td>\n",
       "      <td>...</td>\n",
       "      <td>0</td>\n",
       "      <td>0</td>\n",
       "      <td>0</td>\n",
       "      <td>0</td>\n",
       "      <td>1</td>\n",
       "      <td>0</td>\n",
       "      <td>0</td>\n",
       "      <td>0</td>\n",
       "      <td>0</td>\n",
       "      <td>1</td>\n",
       "    </tr>\n",
       "    <tr>\n",
       "      <th>3</th>\n",
       "      <td>1</td>\n",
       "      <td>3</td>\n",
       "      <td>0</td>\n",
       "      <td>1</td>\n",
       "      <td>0</td>\n",
       "      <td>0</td>\n",
       "      <td>1</td>\n",
       "      <td>1</td>\n",
       "      <td>0</td>\n",
       "      <td>0</td>\n",
       "      <td>...</td>\n",
       "      <td>0</td>\n",
       "      <td>0</td>\n",
       "      <td>0</td>\n",
       "      <td>1</td>\n",
       "      <td>0</td>\n",
       "      <td>0</td>\n",
       "      <td>1</td>\n",
       "      <td>0</td>\n",
       "      <td>0</td>\n",
       "      <td>0</td>\n",
       "    </tr>\n",
       "    <tr>\n",
       "      <th>4</th>\n",
       "      <td>1</td>\n",
       "      <td>1</td>\n",
       "      <td>0</td>\n",
       "      <td>1</td>\n",
       "      <td>1</td>\n",
       "      <td>1</td>\n",
       "      <td>1</td>\n",
       "      <td>2</td>\n",
       "      <td>0</td>\n",
       "      <td>0</td>\n",
       "      <td>...</td>\n",
       "      <td>0</td>\n",
       "      <td>0</td>\n",
       "      <td>0</td>\n",
       "      <td>1</td>\n",
       "      <td>0</td>\n",
       "      <td>0</td>\n",
       "      <td>0</td>\n",
       "      <td>0</td>\n",
       "      <td>0</td>\n",
       "      <td>1</td>\n",
       "    </tr>\n",
       "    <tr>\n",
       "      <th>5</th>\n",
       "      <td>0</td>\n",
       "      <td>3</td>\n",
       "      <td>0</td>\n",
       "      <td>1</td>\n",
       "      <td>0</td>\n",
       "      <td>0</td>\n",
       "      <td>0</td>\n",
       "      <td>1</td>\n",
       "      <td>0</td>\n",
       "      <td>0</td>\n",
       "      <td>...</td>\n",
       "      <td>0</td>\n",
       "      <td>0</td>\n",
       "      <td>0</td>\n",
       "      <td>1</td>\n",
       "      <td>0</td>\n",
       "      <td>0</td>\n",
       "      <td>0</td>\n",
       "      <td>1</td>\n",
       "      <td>0</td>\n",
       "      <td>0</td>\n",
       "    </tr>\n",
       "  </tbody>\n",
       "</table>\n",
       "<p>5 rows × 21 columns</p>\n",
       "</div>"
      ],
      "text/plain": [
       "             Survived  Pclass  age_missing  has_travel_partner  has_cabin  \\\n",
       "PassengerId                                                                 \n",
       "1                   0       3            0                   1          0   \n",
       "2                   1       1            0                   1          1   \n",
       "3                   1       3            0                   1          0   \n",
       "4                   1       1            0                   1          1   \n",
       "5                   0       3            0                   1          0   \n",
       "\n",
       "             has_husband  is_female  family_size_group  Embarked_C  \\\n",
       "PassengerId                                                          \n",
       "1                      0          0                  2           0   \n",
       "2                      1          1                  2           1   \n",
       "3                      0          1                  1           0   \n",
       "4                      1          1                  2           0   \n",
       "5                      0          0                  1           0   \n",
       "\n",
       "             Embarked_Q  ...  age_group_1  age_group_2  age_group_3  \\\n",
       "PassengerId              ...                                          \n",
       "1                     0  ...            0            0            1   \n",
       "2                     0  ...            0            0            0   \n",
       "3                     0  ...            0            0            0   \n",
       "4                     0  ...            0            0            0   \n",
       "5                     0  ...            0            0            0   \n",
       "\n",
       "             age_group_4  age_group_5  fare_group_1  fare_group_2  \\\n",
       "PassengerId                                                         \n",
       "1                      0            0             0             1   \n",
       "2                      0            1             0             0   \n",
       "3                      1            0             0             1   \n",
       "4                      1            0             0             0   \n",
       "5                      1            0             0             0   \n",
       "\n",
       "             fare_group_3  fare_group_4  fare_group_5  \n",
       "PassengerId                                            \n",
       "1                       0             0             0  \n",
       "2                       0             0             1  \n",
       "3                       0             0             0  \n",
       "4                       0             0             1  \n",
       "5                       1             0             0  \n",
       "\n",
       "[5 rows x 21 columns]"
      ]
     },
     "execution_count": 87,
     "metadata": {},
     "output_type": "execute_result"
    }
   ],
   "source": [
    "# analytical base table to dataframe\n",
    "abt = pd.read_csv('analytical_base_table.csv', index_col='PassengerId')\n",
    "print(abt.shape)\n",
    "abt.head()"
   ]
  },
  {
   "cell_type": "code",
   "execution_count": 88,
   "metadata": {},
   "outputs": [
    {
     "name": "stdout",
     "output_type": "stream",
     "text": [
      "X shape: (891, 20)\n",
      "y shape: (891,)\n"
     ]
    }
   ],
   "source": [
    "# define input and target variables\n",
    "X = abt.drop('Survived', axis=1)\n",
    "y = abt.Survived\n",
    "\n",
    "print('X shape:', X.shape)\n",
    "print('y shape:', y.shape)   "
   ]
  },
  {
   "cell_type": "code",
   "execution_count": 89,
   "metadata": {},
   "outputs": [
    {
     "name": "stdout",
     "output_type": "stream",
     "text": [
      "[[ 0.82737724 -0.49789473  0.23598136 ... -0.56741383 -0.5570405\n",
      "  -0.57605431]\n",
      " [-1.56610693 -0.49789473  0.23598136 ... -0.56741383 -0.5570405\n",
      "   1.73594744]\n",
      " [ 0.82737724 -0.49789473  0.23598136 ... -0.56741383 -0.5570405\n",
      "  -0.57605431]\n",
      " ...\n",
      " [ 0.82737724  2.0084567   0.23598136 ... -0.56741383  1.79520161\n",
      "  -0.57605431]\n",
      " [-1.56610693 -0.49789473 -4.23762278 ... -0.56741383  1.79520161\n",
      "  -0.57605431]\n",
      " [ 0.82737724 -0.49789473  0.23598136 ... -0.56741383 -0.5570405\n",
      "  -0.57605431]]\n"
     ]
    }
   ],
   "source": [
    "# initialize scaler for X\n",
    "scaler = StandardScaler()\n",
    "\n",
    "# fit for and transform X\n",
    "X_scaled = scaler.fit_transform(X)\n",
    "\n",
    "# check result\n",
    "print(X_scaled)"
   ]
  },
  {
   "cell_type": "code",
   "execution_count": 90,
   "metadata": {},
   "outputs": [],
   "source": [
    "def fit_and_plot_classifier(clf):\n",
    "    \n",
    "    # fit\n",
    "    clf.fit(X_scaled,y)\n",
    "    \n",
    "    # predict\n",
    "    pred = clf.predict_proba(X_scaled)\n",
    "    pred = [p[1] for p in pred]\n",
    "    \n",
    "    # unpack true positive rate and false positive rate for plotting\n",
    "    fpr, tpr, threshold = roc_curve(y, pred)\n",
    "    \n",
    "    # print area under receiver operating characteristic\n",
    "    print('AUROC:', np.round(roc_auc_score(y_true=y, y_score=pred), 5))\n",
    "    print()\n"
   ]
  },
  {
   "cell_type": "markdown",
   "metadata": {},
   "source": [
    "### Random Forest Experiment\n",
    "\n",
    "Random forests are strong (unconstrained) models. The parameters to be tuned are\n",
    "* n_estimators (default 100)\n",
    "* min_samples_leaf (default 1)\n",
    "\n",
    "The following results show:\n",
    "* there are likely no performance gains in adjusting the number of trees (estimators)\n",
    "* the default min_samples_leaf performs best, although there is a risk of overfitting"
   ]
  },
  {
   "cell_type": "code",
   "execution_count": 91,
   "metadata": {},
   "outputs": [
    {
     "name": "stdout",
     "output_type": "stream",
     "text": [
      "50 trees\n",
      "AUROC: 0.94547\n",
      "\n",
      "100 trees\n",
      "AUROC: 0.94547\n",
      "\n",
      "200 trees\n",
      "AUROC: 0.9455\n",
      "\n"
     ]
    }
   ],
   "source": [
    "for tree in [50, 100, 200]:\n",
    "    print(tree, 'trees')\n",
    "    fit_and_plot_classifier(RandomForestClassifier(random_state=123, n_estimators=tree))"
   ]
  },
  {
   "cell_type": "code",
   "execution_count": 92,
   "metadata": {},
   "outputs": [
    {
     "name": "stdout",
     "output_type": "stream",
     "text": [
      "1 min_samples_leaf\n",
      "AUROC: 0.94547\n",
      "\n",
      "3 min_samples_leaf\n",
      "AUROC: 0.9124\n",
      "\n",
      "5 min_samples_leaf\n",
      "AUROC: 0.90035\n",
      "\n"
     ]
    }
   ],
   "source": [
    "for n in [1, 3, 5]:\n",
    "    print(n, 'min_samples_leaf')\n",
    "    fit_and_plot_classifier(RandomForestClassifier(random_state=123, min_samples_leaf=n))"
   ]
  },
  {
   "cell_type": "markdown",
   "metadata": {},
   "source": [
    "### Gradient booster experiment\n",
    "\n",
    "Gradient boosters are weak (constrained) models. The parameters to be tunes are:\n",
    "* n_estimators (default 100)\n",
    "    * Gradient boosting is fairly robust to over-fitting so a large number usually results in better performance.\n",
    "* max_depth (default 3)\n",
    "\n",
    "The following results show:\n",
    "* increasing the number of trees (estimators) improves the model performance, although risks overfitting\n",
    "* the performance improves up to a max_depth of 5, then decreases as it gets higher"
   ]
  },
  {
   "cell_type": "code",
   "execution_count": 93,
   "metadata": {},
   "outputs": [
    {
     "name": "stdout",
     "output_type": "stream",
     "text": [
      "100 trees\n",
      "AUROC: 0.91089\n",
      "\n",
      "200 trees\n",
      "AUROC: 0.92033\n",
      "\n",
      "500 trees\n",
      "AUROC: 0.93381\n",
      "\n",
      "1000 trees\n",
      "AUROC: 0.94284\n",
      "\n"
     ]
    }
   ],
   "source": [
    "for trees in [100, 200, 500, 1000]:\n",
    "    print(trees, 'trees')\n",
    "    fit_and_plot_classifier(GradientBoostingClassifier(random_state=123, n_estimators=trees))"
   ]
  },
  {
   "cell_type": "code",
   "execution_count": 94,
   "metadata": {},
   "outputs": [
    {
     "name": "stdout",
     "output_type": "stream",
     "text": [
      "max_depth: 1\n",
      "AUROC: 0.87394\n",
      "\n",
      "max_depth: 3\n",
      "AUROC: 0.94284\n",
      "\n",
      "max_depth: 5\n",
      "AUROC: 0.95248\n",
      "\n",
      "max_depth: 7\n",
      "AUROC: 0.95248\n",
      "\n"
     ]
    }
   ],
   "source": [
    "for depth in [1, 3, 5, 7]: \n",
    "    print('max_depth:', depth)\n",
    "    fit_and_plot_classifier(GradientBoostingClassifier(random_state=123, n_estimators=1000, max_depth=depth))"
   ]
  },
  {
   "cell_type": "markdown",
   "metadata": {},
   "source": [
    "## Section 7: Model Training\n",
    "\n",
    "Files train.csv and test.csv have been provided to train and test, however test.csv does not contain the target variable. This file will be treated as the 'new' set of unknowns to predict.\n",
    "\n",
    "train.csv will be used for model training and selection. This data will be further split into train and test sets in order to compare model performance.\n",
    "\n",
    "The traing results will show that the GradientBoostingClassifier best estimator scores highest by both the cross validation score and the Area Under the Operating Receiver Statistic (AUROC). This sklearn pipeline will be saved and used to predict the the survival of passengers in the test set."
   ]
  },
  {
   "cell_type": "code",
   "execution_count": 95,
   "metadata": {},
   "outputs": [
    {
     "name": "stdout",
     "output_type": "stream",
     "text": [
      "(891, 21)\n"
     ]
    }
   ],
   "source": [
    "# training data to dataframe\n",
    "abt = pd.read_csv('analytical_base_table.csv', index_col='PassengerId')\n",
    "\n",
    "print(df.shape)"
   ]
  },
  {
   "cell_type": "code",
   "execution_count": 96,
   "metadata": {},
   "outputs": [
    {
     "name": "stdout",
     "output_type": "stream",
     "text": [
      "X shape: (891, 20)\n",
      "y shape: (891,)\n"
     ]
    }
   ],
   "source": [
    "# define X and y variables\n",
    "X = abt.drop('Survived', axis=1)\n",
    "y = abt.Survived\n",
    "\n",
    "print('X shape:', X.shape)\n",
    "print('y shape:', y.shape)"
   ]
  },
  {
   "cell_type": "code",
   "execution_count": 97,
   "metadata": {},
   "outputs": [
    {
     "name": "stdout",
     "output_type": "stream",
     "text": [
      "X_train shape: (801, 20)\n",
      "y_train shape: (801,)\n",
      "X_test shape: (90, 20)\n",
      "y_test shape: (90,)\n"
     ]
    }
   ],
   "source": [
    "# train test split\n",
    "X_train, X_test, y_train, y_test = train_test_split(X, y, test_size=0.1, random_state=123, stratify=abt.Survived)\n",
    "\n",
    "print('X_train shape:', X_train.shape)\n",
    "print('y_train shape:', y_train.shape)\n",
    "print('X_test shape:', X_test.shape)\n",
    "print('y_test shape:', y_test.shape)"
   ]
  },
  {
   "cell_type": "code",
   "execution_count": 98,
   "metadata": {},
   "outputs": [
    {
     "data": {
      "text/plain": [
       "{'rf': Pipeline(memory=None,\n",
       "          steps=[('standardscaler',\n",
       "                  StandardScaler(copy=True, with_mean=True, with_std=True)),\n",
       "                 ('randomforestclassifier',\n",
       "                  RandomForestClassifier(bootstrap=True, ccp_alpha=0.0,\n",
       "                                         class_weight=None, criterion='gini',\n",
       "                                         max_depth=None, max_features='auto',\n",
       "                                         max_leaf_nodes=None, max_samples=None,\n",
       "                                         min_impurity_decrease=0.0,\n",
       "                                         min_impurity_split=None,\n",
       "                                         min_samples_leaf=1, min_samples_split=2,\n",
       "                                         min_weight_fraction_leaf=0.0,\n",
       "                                         n_estimators=100, n_jobs=None,\n",
       "                                         oob_score=False, random_state=123,\n",
       "                                         verbose=0, warm_start=False))],\n",
       "          verbose=False),\n",
       " 'gb': Pipeline(memory=None,\n",
       "          steps=[('standardscaler',\n",
       "                  StandardScaler(copy=True, with_mean=True, with_std=True)),\n",
       "                 ('gradientboostingclassifier',\n",
       "                  GradientBoostingClassifier(ccp_alpha=0.0,\n",
       "                                             criterion='friedman_mse', init=None,\n",
       "                                             learning_rate=0.1, loss='deviance',\n",
       "                                             max_depth=3, max_features=None,\n",
       "                                             max_leaf_nodes=None,\n",
       "                                             min_impurity_decrease=0.0,\n",
       "                                             min_impurity_split=None,\n",
       "                                             min_samples_leaf=1,\n",
       "                                             min_samples_split=2,\n",
       "                                             min_weight_fraction_leaf=0.0,\n",
       "                                             n_estimators=100,\n",
       "                                             n_iter_no_change=None,\n",
       "                                             presort='deprecated',\n",
       "                                             random_state=123, subsample=1.0,\n",
       "                                             tol=0.0001, validation_fraction=0.1,\n",
       "                                             verbose=0, warm_start=False))],\n",
       "          verbose=False)}"
      ]
     },
     "execution_count": 98,
     "metadata": {},
     "output_type": "execute_result"
    }
   ],
   "source": [
    "# initialize piplines\n",
    "pipelines = {'rf' : make_pipeline(StandardScaler(), RandomForestClassifier(random_state=123)),\n",
    "             'gb' : make_pipeline(StandardScaler(), GradientBoostingClassifier(random_state=123)),\n",
    "            }\n",
    "pipelines"
   ]
  },
  {
   "cell_type": "code",
   "execution_count": 99,
   "metadata": {},
   "outputs": [],
   "source": [
    "# Random Forest hyperparameters\n",
    "rf_hyperparameters = {\n",
    "    'randomforestclassifier__n_estimators': [50, 100, 200],\n",
    "    'randomforestclassifier__max_features': ['auto','sqrt', 0.33],\n",
    "    'randomforestclassifier__min_samples_leaf': [1, 3]\n",
    "}"
   ]
  },
  {
   "cell_type": "code",
   "execution_count": 100,
   "metadata": {},
   "outputs": [],
   "source": [
    "# Gradient Boosting hyperparameters\n",
    "gb_hyperparameters = {\n",
    "    'gradientboostingclassifier__n_estimators': [100, 500, 1000],\n",
    "    'gradientboostingclassifier__learning_rate': [0.05, 0.1, 0.2],\n",
    "    'gradientboostingclassifier__max_depth': [3, 5, 7]\n",
    "}"
   ]
  },
  {
   "cell_type": "code",
   "execution_count": 101,
   "metadata": {},
   "outputs": [],
   "source": [
    "# Hyperparameters dict for easy access\n",
    "hyperparameters = {\n",
    "    'rf': rf_hyperparameters,\n",
    "    'gb': gb_hyperparameters\n",
    "}"
   ]
  },
  {
   "cell_type": "code",
   "execution_count": 102,
   "metadata": {},
   "outputs": [
    {
     "name": "stdout",
     "output_type": "stream",
     "text": [
      "rf model fitted\n",
      "gb model fitted\n"
     ]
    }
   ],
   "source": [
    "# fit, tune, and store fitted models\n",
    "\n",
    "# empty dict to for storing fitted model\n",
    "fitted_models = {}\n",
    "\n",
    "# loop through pipelines\n",
    "for name, pipeline in pipelines.items():\n",
    "    \n",
    "    # create cross validation object\n",
    "    model = GridSearchCV(pipeline, hyperparameters[name], cv=10, n_jobs=-1)\n",
    "    \n",
    "    # fit model on training data\n",
    "    model.fit(X_train, y_train)\n",
    "    \n",
    "    # store fitted model to dict\n",
    "    fitted_models[name] = model\n",
    "    \n",
    "    # print message\n",
    "    print(f'{name} model fitted')"
   ]
  },
  {
   "cell_type": "code",
   "execution_count": 105,
   "metadata": {},
   "outputs": [
    {
     "name": "stdout",
     "output_type": "stream",
     "text": [
      "rf 0.8189197530864197\n",
      "gb 0.8276697530864198\n"
     ]
    }
   ],
   "source": [
    "# evaluate the performance on the training set\n",
    "for name, model in fitted_models.items():\n",
    "    print(name, model.best_score_)"
   ]
  },
  {
   "cell_type": "code",
   "execution_count": 106,
   "metadata": {},
   "outputs": [
    {
     "name": "stdout",
     "output_type": "stream",
     "text": [
      "rf\n",
      "[[50  5]\n",
      " [12 23]]\n",
      "\n",
      "gb\n",
      "[[51  4]\n",
      " [12 23]]\n",
      "\n"
     ]
    }
   ],
   "source": [
    "# Evaluate performance on the test set - confusion matrix\n",
    "\n",
    "# loop fitted models test data\n",
    "for name, model in fitted_models.items():\n",
    "    \n",
    "    # get probability score for AUROC input\n",
    "    pred = model.predict(X_test)\n",
    "\n",
    "    # print confusion matrix\n",
    "    cm = confusion_matrix(y_test, pred)\n",
    "    print(name)\n",
    "    print(cm)\n",
    "    print()"
   ]
  },
  {
   "cell_type": "code",
   "execution_count": 107,
   "metadata": {},
   "outputs": [
    {
     "name": "stdout",
     "output_type": "stream",
     "text": [
      "rf AUROC: 0.8529870129870128\n"
     ]
    },
    {
     "data": {
      "image/png": "[encoded data removed]",
      "text/plain": [
       "<Figure size 360x360 with 1 Axes>"
      ]
     },
     "metadata": {},
     "output_type": "display_data"
    },
    {
     "name": "stdout",
     "output_type": "stream",
     "text": [
      "gb AUROC: 0.8748051948051947\n"
     ]
    },
    {
     "data": {
      "image/png": "[encoded data removed]",
      "text/plain": [
       "<Figure size 360x360 with 1 Axes>"
      ]
     },
     "metadata": {},
     "output_type": "display_data"
    }
   ],
   "source": [
    "# Evaluate performance on the test set - AUROC (Area Under the Receiving Operating Characteristic)\n",
    "\n",
    "# loop fitted models test data\n",
    "for name, model in fitted_models.items():\n",
    "    \n",
    "    # get probability score for AUROC input\n",
    "    pred = model.predict_proba(X_test)\n",
    "    pred = [p[1] for p in pred]\n",
    "    \n",
    "    # evaluate prediction using AUROC\n",
    "    fpr, tpr, threshold = roc_curve(y_test, pred)\n",
    "    \n",
    "    # print AUROC score\n",
    "    print(F'{name} AUROC:', roc_auc_score(np.array(y_test), pred) )\n",
    "    \n",
    "    # initialize plot\n",
    "    plt.figure(figsize=(5,5))\n",
    "    \n",
    "    # plot curve\n",
    "    plt.plot(fpr, tpr)\n",
    "    \n",
    "    # plot diagonal line\n",
    "    plt.plot([0,1],[0,1], 'k--')\n",
    "    \n",
    "    #\n",
    "    plt.xlabel('FPR')\n",
    "    plt.ylabel('TPR')\n",
    "    plt.show()"
   ]
  },
  {
   "cell_type": "code",
   "execution_count": 108,
   "metadata": {},
   "outputs": [
    {
     "data": {
      "text/plain": [
       "Pipeline(memory=None,\n",
       "         steps=[('standardscaler',\n",
       "                 StandardScaler(copy=True, with_mean=True, with_std=True)),\n",
       "                ('gradientboostingclassifier',\n",
       "                 GradientBoostingClassifier(ccp_alpha=0.0,\n",
       "                                            criterion='friedman_mse', init=None,\n",
       "                                            learning_rate=0.05, loss='deviance',\n",
       "                                            max_depth=3, max_features=None,\n",
       "                                            max_leaf_nodes=None,\n",
       "                                            min_impurity_decrease=0.0,\n",
       "                                            min_impurity_split=None,\n",
       "                                            min_samples_leaf=1,\n",
       "                                            min_samples_split=2,\n",
       "                                            min_weight_fraction_leaf=0.0,\n",
       "                                            n_estimators=100,\n",
       "                                            n_iter_no_change=None,\n",
       "                                            presort='deprecated',\n",
       "                                            random_state=123, subsample=1.0,\n",
       "                                            tol=0.0001, validation_fraction=0.1,\n",
       "                                            verbose=0, warm_start=False))],\n",
       "         verbose=False)"
      ]
     },
     "execution_count": 108,
     "metadata": {},
     "output_type": "execute_result"
    }
   ],
   "source": [
    "# Examine the parameters of the best estimator\n",
    "fitted_models['gb'].best_estimator_"
   ]
  },
  {
   "cell_type": "code",
   "execution_count": 109,
   "metadata": {},
   "outputs": [],
   "source": [
    "# save the best esimator\n",
    "with open('final_model.pkl', 'wb') as f:\n",
    "    pickle.dump(fitted_models['gb'].best_estimator_, f)"
   ]
  },
  {
   "cell_type": "markdown",
   "metadata": {},
   "source": [
    "## Insights & Analysis\n",
    "\n",
    "#### Key findings and results\n",
    "The Titanic data set was fun to work with. Although it did not contain many features, each feature it did contain provided an opportunity to extract useful information. The data dictionary was useful, however some key questions could not be answered without addition domain knowledge, such as:\n",
    "* what do the letters in the Ticket column represent?\n",
    "* why are there so many missing Cabin values?\n",
    "* what is the definition behind the code of the Cabin values?\n",
    "\n",
    "The best estimator test AUROC score of 0.856 is not as high as I'd hoped. Since the problem is a competition, I'd hoped to achieve a score of 0.9 or higher before submitting a prediction for the unknowns from test.csv.\n",
    "\n",
    "Overall, I'm happy with the result as a first attempt. Now that the workflow is in place, further experimenting and testing will be easy to do.\n",
    "\n",
    "#### Winning model\n",
    "The winning model was a gradient boosting classifier\n",
    "* cross validation score 0.827\n",
    "* AUROC score 0.874\n",
    "\n",
    "#### What I learned\n",
    "One thing I learned is to be careful not to spend too much time in the exploratory analysis phase. Unfortunately, I did not have an 'ah-ha' moment, and had to decide when to stop and move on to the next section. I discovered that a high score can be achieved by performing simple cleaning and engineering tasks such as:\n",
    "1. filling missing values \n",
    "2. removing sparse catories\n",
    "3. creating dummy variables\n",
    "\n",
    "For example, the GradientBoostingClassifier achieved an equivalent cross-validation score without feature engineering or dimensionality reduction. However, the final model achieved a higher AUROC score.\n",
    "\n",
    "#### Expanding on this project\n",
    "Some important next steps will be to examine feature importance with a view to removing irrelevant features and further reducing complexity. In addition, the gradient boosting classifier is known for high performance with extensive tuning. More research into the tuning possibilities would surely help with improving performace. There are also outliers detected in the Fare feature. Since outliers are innocent until proven guilty, additional domain knowledge is needed do determine if some are guilty and how best to replace them.\n",
    "\n",
    "#### Additional data to aquire\n",
    "I would like to aquire additional observations to assist with both the Exploratory Analysis and Model Training. The Titanic reportedly had over 3000 people on board including crew, and so the number of observations is relativley low in this current set. Also, Addition features on passenger health would be useful in predicting survival.\n",
    "\n",
    "### Additional resources\n",
    "\n",
    "splitting string values\n",
    "https://datatofish.com/left-right-mid-pandas/\n",
    "\n",
    "grouping continuous numbers into buckets\n",
    "https://www.dataquest.io/blog/tutorial-add-column-pandas-dataframe-based-on-if-else-condition/\n"
   ]
  },
  {
   "cell_type": "code",
   "execution_count": null,
   "metadata": {},
   "outputs": [],
   "source": []
  }
 ],
 "metadata": {
  "kernelspec": {
   "display_name": "Python 3",
   "language": "python",
   "name": "python3"
  },
  "language_info": {
   "codemirror_mode": {
    "name": "ipython",
    "version": 3
   },
   "file_extension": ".py",
   "mimetype": "text/x-python",
   "name": "python",
   "nbconvert_exporter": "python",
   "pygments_lexer": "ipython3",
   "version": "3.7.6"
  }
 },
 "nbformat": 4,
 "nbformat_minor": 4
}
